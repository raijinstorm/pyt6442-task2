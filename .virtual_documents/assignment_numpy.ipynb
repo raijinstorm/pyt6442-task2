


import numpy as np





rand_arr = np.random.random





print(xello)





# your code





# your code





# your code





# your code














# your code





# your code





# your code





# your code





# your code








import numpy as np





calorie_stats = np.loadtxt("./data/cereal.csv", delimiter=",")
calorie_stats





# your code





# your code





# your code





# your code





# your code





# your code





# your code
