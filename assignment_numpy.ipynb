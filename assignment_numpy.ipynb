{
 "cells": [
  {
   "cell_type": "markdown",
   "id": "d3df79dd",
   "metadata": {},
   "source": [
    "## Упражнения по библиотеке Numpy"
   ]
  },
  {
   "cell_type": "code",
   "execution_count": 1,
   "id": "76b9c43b",
   "metadata": {},
   "outputs": [],
   "source": [
    "import numpy as np"
   ]
  },
  {
   "cell_type": "markdown",
   "id": "03727b7c",
   "metadata": {},
   "source": [
    "**1.** Дан случайный массив, поменять знак у элементов, значения которых между 3 и 8"
   ]
  },
  {
   "cell_type": "code",
   "execution_count": 2,
   "id": "b89a7523",
   "metadata": {},
   "outputs": [
    {
     "name": "stdout",
     "output_type": "stream",
     "text": [
      "[7.46560826 5.38100956 4.67893492 7.99093252 7.55540033 5.87236373\n",
      " 5.12012158 7.57248539 3.03847689 3.83751441 3.78995066]\n"
     ]
    }
   ],
   "source": [
    "rand_arr = np.random.random((20)) * 10\n",
    "print(rand_arr[(rand_arr > 3) & (rand_arr<8)])"
   ]
  },
  {
   "cell_type": "markdown",
   "id": "5fa4abda",
   "metadata": {},
   "source": [
    "**2.** Заменить максимальный элемент случайного массива на 0"
   ]
  },
  {
   "cell_type": "code",
   "execution_count": 3,
   "id": "f2788a6e",
   "metadata": {},
   "outputs": [
    {
     "name": "stdout",
     "output_type": "stream",
     "text": [
      "[[6.06132989 2.55756474]\n",
      " [7.67630617 5.09894659]]\n",
      "[[6.06132989 2.55756474]\n",
      " [0.         5.09894659]]\n"
     ]
    }
   ],
   "source": [
    "rand_arr = np.random.random((2,2)) * 10\n",
    "print(rand_arr)\n",
    "rand_arr.flat[rand_arr.argmax()] = 0\n",
    "print(rand_arr)"
   ]
  },
  {
   "cell_type": "markdown",
   "id": "3cac656b",
   "metadata": {},
   "source": [
    "**3.** Построить прямое произведение массивов (все комбинации с каждым элементом). На вход подается двумерный массив"
   ]
  },
  {
   "cell_type": "code",
   "execution_count": 4,
   "id": "3396b764",
   "metadata": {},
   "outputs": [
    {
     "name": "stdout",
     "output_type": "stream",
     "text": [
      "[[1 3 6]\n",
      " [1 4 6]\n",
      " [1 5 6]\n",
      " [2 3 6]\n",
      " [2 4 6]\n",
      " [2 5 6]\n",
      " [3 3 6]\n",
      " [3 4 6]\n",
      " [3 5 6]\n",
      " [1 3 7]\n",
      " [1 4 7]\n",
      " [1 5 7]\n",
      " [2 3 7]\n",
      " [2 4 7]\n",
      " [2 5 7]\n",
      " [3 3 7]\n",
      " [3 4 7]\n",
      " [3 5 7]\n",
      " [1 3 8]\n",
      " [1 4 8]\n",
      " [1 5 8]\n",
      " [2 3 8]\n",
      " [2 4 8]\n",
      " [2 5 8]\n",
      " [3 3 8]\n",
      " [3 4 8]\n",
      " [3 5 8]]\n"
     ]
    }
   ],
   "source": [
    "#Без понятия как тут используется numpy, нашел такое решение с itertools\n",
    "from itertools import product\n",
    "\n",
    "arr = np.array([\n",
    "    [1, 2, 3],\n",
    "    [3,4,5],\n",
    "    [6,7,8]\n",
    "])\n",
    "\n",
    "b = np.array([\n",
    "    [1, 2],\n",
    "    [3,4]\n",
    "])\n",
    "#print(np.array(list(product(*arr))))\n",
    "\n",
    "def cartestian_product(arr):\n",
    "    #Create cartesian product array\n",
    "    x = np.array(np.meshgrid(*arr)).T\n",
    "    #Fix the dimensions by saying to numpy to reshape to (?, len(arr)) and numpy will automatically fit based on the len(arr) \n",
    "    return x.reshape(-1, len(arr))\n",
    "\n",
    "print(cartestian_product(arr))"
   ]
  },
  {
   "cell_type": "markdown",
   "id": "674c9354",
   "metadata": {},
   "source": [
    "**4.** Даны 2 массива A (8x3) и B (2x2). Найти строки в A, которые содержат элементы из каждой строки в B, независимо от порядка элементов в B"
   ]
  },
  {
   "cell_type": "code",
   "execution_count": 5,
   "id": "cb664782",
   "metadata": {},
   "outputs": [
    {
     "name": "stdout",
     "output_type": "stream",
     "text": [
      "[[1 3 7]\n",
      " [5 3 6]\n",
      " [9 2 9]\n",
      " [8 7 1]\n",
      " [2 4 4]\n",
      " [2 0 1]\n",
      " [9 7 5]\n",
      " [4 4 7]]\n",
      "[[4 0]\n",
      " [4 2]]\n",
      "First result: \n",
      "[[2 4 4]\n",
      " [2 0 1]\n",
      " [4 4 7]]\n",
      "Second result: \n",
      "[[2 4 4]\n",
      " [2 0 1]\n",
      " [4 4 7]]\n"
     ]
    }
   ],
   "source": [
    "A = (np.random.random((8,3)) * 10).astype(int)\n",
    "B = (np.random.random((2,2)) * 10).astype(int)\n",
    "print(A)\n",
    "print(B)\n",
    "\n",
    "# Using pure python\n",
    "result = np.zeros(len(A)).astype(bool)\n",
    "for i in range(len(A)):\n",
    "    cnt = 0\n",
    "    for j in range(len(B)):\n",
    "        for k in range(len(B[0])):\n",
    "            if B[j][k] in A[i]:\n",
    "                cnt+=1\n",
    "                break\n",
    "    if (cnt == len(B)):\n",
    "        result[i] = True\n",
    "print(\"First result: \")\n",
    "print(A[result])\n",
    "\n",
    "#Usin numpy\n",
    "masks = [np.isin(A, b_row).any(axis = 1) for b_row in B]\n",
    "masks_all = np.array(masks).all(axis = 0)\n",
    "\n",
    "print(\"Second result: \")\n",
    "print(A[masks_all])\n",
    "        "
   ]
  },
  {
   "cell_type": "markdown",
   "id": "fa46533b",
   "metadata": {},
   "source": [
    "**5.** Дана 10x3 матрица, найти строки из неравных значений (например строка [2,2,3] остается, строка [3,3,3] удаляется)"
   ]
  },
  {
   "cell_type": "code",
   "execution_count": 6,
   "id": "fa545b23",
   "metadata": {},
   "outputs": [
    {
     "name": "stdout",
     "output_type": "stream",
     "text": [
      "Result:\n",
      " [[2 3 2]\n",
      " [5 6 7]]\n",
      "Result:\n",
      " [[2 3 2]\n",
      " [5 6 7]]\n"
     ]
    }
   ],
   "source": [
    "arr = np.array([\n",
    "    [1, 1, 1],\n",
    "    [2, 3, 2],\n",
    "    [4, 4, 4],\n",
    "    [5, 6, 7]\n",
    "])\n",
    "\n",
    "mask = [row.max() != row.min() for row in arr]\n",
    "print(\"Result:\\n\", arr[mask])\n",
    "\n",
    "#vectorized\n",
    "mask = np.ptp(arr, axis = 1) > 0\n",
    "print(\"Result:\\n\", arr[mask])"
   ]
  },
  {
   "cell_type": "markdown",
   "id": "28f0d116",
   "metadata": {},
   "source": [
    "**6.** Дан двумерный массив. Удалить те строки, которые повторяются"
   ]
  },
  {
   "cell_type": "code",
   "execution_count": 7,
   "id": "83d2c0b7",
   "metadata": {},
   "outputs": [
    {
     "name": "stdout",
     "output_type": "stream",
     "text": [
      "[[1 1 1]\n",
      " [1 3 2]\n",
      " [5 6 7]]\n"
     ]
    }
   ],
   "source": [
    "arr = np.array([\n",
    "    [1, 1, 1],\n",
    "    [1, 3, 2],\n",
    "    [1, 1, 1],\n",
    "    [5, 6, 7]\n",
    "])\n",
    "\n",
    "print(np.unique(arr, axis=0))"
   ]
  },
  {
   "cell_type": "markdown",
   "id": "6daa9e37",
   "metadata": {},
   "source": [
    "______\n",
    "______"
   ]
  },
  {
   "cell_type": "markdown",
   "id": "cfbfcaff",
   "metadata": {},
   "source": [
    "Для каждой из следующих задач (1-5) нужно привести 2 реализации – одна без использования numpy (cчитайте, что там, где на входе или выходе должны быть numpy array, будут просто списки), а вторая полностью векторизованная с использованием numpy (без использования питоновских циклов/map/list comprehension).\n",
    "\n",
    "\n",
    "__Замечание 1.__ Можно считать, что все указанные объекты непустые (к примеру, в __задаче 1__ на диагонали матрицы есть ненулевые элементы).\n",
    "\n",
    "__Замечание 2.__ Для большинства задач решение занимает не больше 1-2 строк."
   ]
  },
  {
   "cell_type": "markdown",
   "id": "673cac7f",
   "metadata": {},
   "source": [
    "___"
   ]
  },
  {
   "cell_type": "markdown",
   "id": "ca6f585e",
   "metadata": {},
   "source": [
    "* __Задача 1__: Подсчитать произведение ненулевых элементов на диагонали прямоугольной матрицы.  \n",
    " Например, для X = np.array([[1, 0, 1], [2, 0, 2], [3, 0, 3], [4, 4, 4]]) ответ 3."
   ]
  },
  {
   "cell_type": "code",
   "execution_count": 8,
   "id": "065862fc",
   "metadata": {},
   "outputs": [
    {
     "name": "stdout",
     "output_type": "stream",
     "text": [
      "3\n",
      "3\n"
     ]
    }
   ],
   "source": [
    "X2 = np.array([\n",
    "    [0, 1],\n",
    "    [2, 0],\n",
    "    [3, 4]\n",
    "])\n",
    "\n",
    "X3 = np.array([\n",
    "    [2, 1, 3],\n",
    "    [4, 5, 6],\n",
    "    [7, 8, 9]\n",
    "])\n",
    "\n",
    "\n",
    "arr = np.array([[1, 0, 1], [2, 0, 2], [3, 0, 3], [4, 4, 4]])\n",
    "\n",
    "#Pure pythoon\n",
    "n = min(len(arr), len(arr[0]))\n",
    "res = 1\n",
    "for i in range(n):\n",
    "    res *= arr[i][i] if arr[i][i] != 0 else 1\n",
    "print(res)\n",
    "\n",
    "\n",
    "# Numpy\n",
    "d = np.diag(arr)\n",
    "res = d[d.nonzero()].prod()\n",
    "print(res)\n"
   ]
  },
  {
   "cell_type": "markdown",
   "id": "9fc51d41",
   "metadata": {},
   "source": [
    "* __Задача 2__: Даны два вектора x и y. Проверить, задают ли они одно и то же мультимножество.  \n",
    "  Например, для x = np.array([1, 2, 2, 4]), y = np.array([4, 2, 1, 2]) ответ True."
   ]
  },
  {
   "cell_type": "code",
   "execution_count": 9,
   "id": "a809e02f",
   "metadata": {},
   "outputs": [
    {
     "name": "stdout",
     "output_type": "stream",
     "text": [
      "True\n",
      "True\n",
      "True\n"
     ]
    }
   ],
   "source": [
    "x = np.array([1, 2, 2, 4])\n",
    "y = np.array([4, 2, 1, 2])\n",
    "\n",
    "#Python\n",
    "from collections import Counter\n",
    "res = Counter(x) == Counter(y)\n",
    "print(res)\n",
    "\n",
    "#Numpy 1\n",
    "x1, x2 = np.unique(x, return_counts=True)  \n",
    "y1, y2 = np.unique(y, return_counts=True)\n",
    "\n",
    "res = np.array_equal(x1, y1) and np.array_equal(x2, y2)\n",
    "\n",
    "print(res)\n",
    "\n",
    "#Numpy 2\n",
    "res = np.array_equal(np.sort(x), np.sort(y))\n",
    "\n",
    "print(res)"
   ]
  },
  {
   "cell_type": "markdown",
   "id": "b9c185c7",
   "metadata": {},
   "source": [
    "* __Задача 3__: Найти максимальный элемент в векторе x среди элементов, перед которыми стоит ноль. \n",
    " Например, для x = np.array([6, 2, 0, 3, 0, 0, 5, 7, 0]) ответ 5."
   ]
  },
  {
   "cell_type": "code",
   "execution_count": 10,
   "id": "b57df008",
   "metadata": {},
   "outputs": [
    {
     "name": "stdout",
     "output_type": "stream",
     "text": [
      "5\n",
      "5\n"
     ]
    }
   ],
   "source": [
    "# your code\n",
    "arr = np.array([6, 2, 0, 3, 0, 0, 5, 7, 0])\n",
    "\n",
    "#Python\n",
    "maxx = 0\n",
    "for i in range(1, len(arr)):\n",
    "    if arr[i-1] == 0 and arr[i] > maxx:\n",
    "        maxx = arr[i]\n",
    "        \n",
    "print(maxx)\n",
    "\n",
    "#Numpy\n",
    "zero_indices = np.where(arr[:-1] == 0)[0]\n",
    "res = arr[zero_indices + 1].max()\n",
    "print(res)\n"
   ]
  },
  {
   "cell_type": "markdown",
   "id": "d98c1997",
   "metadata": {},
   "source": [
    "Задача 4: Реализовать кодирование длин серий (Run-length encoding). Для некоторого вектора x необходимо вернуть кортеж из двух векторов одинаковой длины. Первый содержит числа, а второй - сколько раз их нужно повторить.\n",
    "Например, для x = np.array([2, 2, 2, 3, 3, 3, 5]) ответ (np.array([2, 3, 5]), np.array([3, 3, 1]))."
   ]
  },
  {
   "cell_type": "code",
   "execution_count": null,
   "id": "c9c8f597",
   "metadata": {},
   "outputs": [],
   "source": []
  },
  {
   "cell_type": "markdown",
   "id": "480be4ce",
   "metadata": {},
   "source": [
    "<!-- * __Задача 4__: Реализовать кодирование длин серий (Run-length encoding). Для некоторого вектора x необходимо вернуть кортеж из двух векторов одинаковой длины. Первый содержит числа, а второй - сколько раз их нужно повторить.  \n",
    " Например, для x = np.array([2, 2, 2, 3, 3, 3, 5]) ответ (np.array([2, 3, 5]), np.array([3, 3, 1])). -->"
   ]
  },
  {
   "cell_type": "code",
   "execution_count": 38,
   "id": "3c592124",
   "metadata": {},
   "outputs": [
    {
     "name": "stdout",
     "output_type": "stream",
     "text": [
      "[1 2 2 1 2 2 1 1 1 2]\n",
      "Python solution:\n",
      "(np.int64(1), 1)\n",
      "(np.int64(2), 2)\n",
      "(np.int64(1), 1)\n",
      "(np.int64(2), 2)\n",
      "(np.int64(1), 3)\n",
      "(np.int64(2), 1)\n",
      "Numpy solution\n",
      "(np.int64(1), np.int64(1))\n",
      "(np.int64(2), np.int64(2))\n",
      "(np.int64(1), np.int64(1))\n",
      "(np.int64(2), np.int64(2))\n",
      "(np.int64(1), np.int64(3))\n",
      "(np.int64(2), np.int64(1))\n",
      "chatGPT solution\n",
      "(np.int64(1), np.int64(1))\n",
      "(np.int64(2), np.int64(2))\n",
      "(np.int64(1), np.int64(1))\n",
      "(np.int64(2), np.int64(2))\n",
      "(np.int64(1), np.int64(3))\n",
      "(np.int64(2), np.int64(1))\n",
      "All 3 answers are the same:\n",
      "True\n"
     ]
    }
   ],
   "source": [
    "# your code\n",
    "# x = np.array([2, 2, 3, 3, 5, 4,4, 2, 0])\n",
    "x= (np.random.rand(10) * 3).astype(int)\n",
    "\n",
    "print(x)\n",
    "#Python\n",
    "\n",
    "indices = []\n",
    "for i in range(len(x)-1):\n",
    "    if x[i+1] != x[i]:\n",
    "        indices.append(i)\n",
    "indices.append(len(x)-1)\n",
    "\n",
    "ans = []\n",
    "for i in range(len(indices)):\n",
    "    start = indices[i-1] if i > 0 else -1\n",
    "    ans.append((x[indices[i]], indices[i] - start))\n",
    "print(\"Python solution:\")\n",
    "for el in ans:\n",
    "    print(el)\n",
    "\n",
    "\n",
    "#Numpy\n",
    "def np_rle(x):\n",
    "    changes = np.nonzero(np.diff(x) != 0)[0]  + 1 \n",
    "    starts = np.concatenate(([0], changes))\n",
    "    ends = np.concatenate((changes, [len(x)]))\n",
    "    \n",
    "    lenghts = ends - starts\n",
    "    values = x[starts]\n",
    "    \n",
    "    return list(zip(values, lenghts))\n",
    "\n",
    "\n",
    "print(\"Numpy solution\")\n",
    "for el in np_rle(x):\n",
    "    print(el)\n",
    "\n",
    "\n",
    "def rle(x):\n",
    "    values = []\n",
    "    counts = []\n",
    "    prev = x[0]\n",
    "    cnt = 1\n",
    "    for a in x[1:]:\n",
    "        if a == prev:\n",
    "            cnt += 1\n",
    "        else:\n",
    "            values.append(prev)\n",
    "            counts.append(cnt)\n",
    "            prev = a\n",
    "            cnt = 1\n",
    "    # не забываем «добить» последнюю серию\n",
    "    values.append(prev)\n",
    "    counts.append(cnt)\n",
    "    return list(zip(np.array(values), np.array(counts)))\n",
    "\n",
    "print(\"chatGPT solution\")\n",
    "for el in rle(x):\n",
    "    print(el)\n",
    "\n",
    "print(\"All 3 answers are the same:\")\n",
    "print(rle(x) == ans and rle(x) == np_rle(x))\n"
   ]
  },
  {
   "cell_type": "markdown",
   "id": "077532ec",
   "metadata": {},
   "source": [
    "* __Задача 5__: Даны две выборки объектов - X и Y. Вычислить матрицу евклидовых расстояний между объектами. Сравните с функцией scipy.spatial.distance.cdist по скорости работы."
   ]
  },
  {
   "cell_type": "code",
   "execution_count": 12,
   "id": "1e807797",
   "metadata": {},
   "outputs": [
    {
     "name": "stdout",
     "output_type": "stream",
     "text": [
      "0.9786326885223389\n",
      "0.041169166564941406\n",
      "2.384185791015625e-05\n"
     ]
    }
   ],
   "source": [
    "import time\n",
    "\n",
    "X = np.random.rand(1000, 3)\n",
    "Y = np.random.rand(1000, 3)\n",
    "\n",
    "st = time.time()\n",
    "res = []\n",
    "for el1 in X:\n",
    "    temp = []\n",
    "    for el2 in Y:\n",
    "        s = 0\n",
    "        for i in range(len(el1)):\n",
    "            s += (el1[i] - el2[i]) ** 2\n",
    "        temp.append(s ** 0.5)\n",
    "    res.append(temp)\n",
    "        \n",
    "print(time.time() - st)\n",
    "\n",
    "st = time.time()\n",
    "diff = X[:, np.newaxis, :] - Y[np.newaxis, :, :]  # shape (m, n, d)\n",
    "res = dist_matrix = np.linalg.norm(diff, axis=2)\n",
    "print(time.time() - st)\n",
    "\n",
    "import scipy\n",
    "st = time.time()\n",
    "# print(scipy.spatial.distance.cdist(X, Y))\n",
    "print(time.time() - st)\n"
   ]
  },
  {
   "cell_type": "markdown",
   "id": "973e8064",
   "metadata": {},
   "source": [
    "_______\n",
    "________"
   ]
  },
  {
   "cell_type": "markdown",
   "id": "1104acb7",
   "metadata": {},
   "source": [
    "* #### __Задача 6__: CrunchieMunchies __*__\n",
    "\n",
    "Вы работаете в отделе маркетинга пищевой компании MyCrunch, которая разрабатывает новый вид вкусных, полезных злаков под названием **CrunchieMunchies**.\n",
    "\n",
    "Вы хотите продемонстрировать потребителям, насколько полезны ваши хлопья по сравнению с другими ведущими брендами, поэтому вы собрали данные о питании нескольких разных конкурентов.\n",
    "\n",
    "Ваша задача - использовать вычисления Numpy для анализа этих данных и доказать, что ваши **СrunchieMunchies** - самый здоровый выбор для потребителей.\n"
   ]
  },
  {
   "cell_type": "code",
   "execution_count": 13,
   "id": "10a77f8d",
   "metadata": {},
   "outputs": [],
   "source": [
    "import numpy as np"
   ]
  },
  {
   "cell_type": "markdown",
   "id": "ab87cb03",
   "metadata": {},
   "source": [
    "1. Просмотрите файл cereal.csv. Этот файл содержит количества калорий для различных марок хлопьев. Загрузите данные из файла и сохраните их как calorie_stats."
   ]
  },
  {
   "cell_type": "code",
   "execution_count": 14,
   "id": "9681ebf2",
   "metadata": {},
   "outputs": [
    {
     "data": {
      "text/plain": [
       "array([ 70., 120.,  70.,  50., 110., 110., 110., 130.,  90.,  90., 120.,\n",
       "       110., 120., 110., 110., 110., 100., 110., 110., 110., 100., 110.,\n",
       "       100., 100., 110., 110., 100., 120., 120., 110., 100., 110., 100.,\n",
       "       110., 120., 120., 110., 110., 110., 140., 110., 100., 110., 100.,\n",
       "       150., 150., 160., 100., 120., 140.,  90., 130., 120., 100.,  50.,\n",
       "        50., 100., 100., 120., 100.,  90., 110., 110.,  80.,  90.,  90.,\n",
       "       110., 110.,  90., 110., 140., 100., 110., 110., 100., 100., 110.])"
      ]
     },
     "execution_count": 14,
     "metadata": {},
     "output_type": "execute_result"
    }
   ],
   "source": [
    "calorie_stats = np.loadtxt(\"./data/cereal.csv\", delimiter=\",\")\n",
    "calorie_stats"
   ]
  },
  {
   "cell_type": "markdown",
   "id": "139cfbd8",
   "metadata": {},
   "source": [
    "2. В одной порции CrunchieMunchies содержится 60 калорий. Насколько выше среднее количество калорий у ваших конкурентов?\n",
    "\n",
    "Сохраните ответ в переменной average_calories и распечатайте переменную в терминале"
   ]
  },
  {
   "cell_type": "code",
   "execution_count": 15,
   "id": "7036d240",
   "metadata": {},
   "outputs": [
    {
     "data": {
      "text/plain": [
       "np.float64(106.88311688311688)"
      ]
     },
     "execution_count": 15,
     "metadata": {},
     "output_type": "execute_result"
    }
   ],
   "source": [
    "average_calories = calorie_stats.mean()\n",
    "average_calories"
   ]
  },
  {
   "cell_type": "markdown",
   "id": "b2ddb4cd",
   "metadata": {},
   "source": [
    "3. Корректно ли среднее количество калорий отражает распределение набора данных? Давайте отсортируем данные и посмотрим.\n",
    "\n",
    "Отсортируйте данные и сохраните результат в переменной calorie_stats_sorted. Распечатайте отсортированную информацию"
   ]
  },
  {
   "cell_type": "code",
   "execution_count": 16,
   "id": "46eeb4ed",
   "metadata": {},
   "outputs": [
    {
     "data": {
      "text/plain": [
       "array([ 50.,  50.,  50.,  70.,  70.,  80.,  90.,  90.,  90.,  90.,  90.,\n",
       "        90.,  90., 100., 100., 100., 100., 100., 100., 100., 100., 100.,\n",
       "       100., 100., 100., 100., 100., 100., 100., 100., 110., 110., 110.,\n",
       "       110., 110., 110., 110., 110., 110., 110., 110., 110., 110., 110.,\n",
       "       110., 110., 110., 110., 110., 110., 110., 110., 110., 110., 110.,\n",
       "       110., 110., 110., 110., 120., 120., 120., 120., 120., 120., 120.,\n",
       "       120., 120., 120., 130., 130., 140., 140., 140., 150., 150., 160.])"
      ]
     },
     "execution_count": 16,
     "metadata": {},
     "output_type": "execute_result"
    }
   ],
   "source": [
    "calorie_stats_sorted = np.sort(calorie_stats)\n",
    "calorie_stats_sorted"
   ]
  },
  {
   "cell_type": "markdown",
   "id": "4dc74116",
   "metadata": {},
   "source": [
    "4. Похоже, что большинство значений выше среднего. Давайте посмотрим, является ли медиана наиболее корректным показателем набора данных.\n",
    "\n",
    "Вычислите медиану набора данных и сохраните свой ответ в median_calories. Выведите медиану, чтобы вы могли видеть, как она сравнивается со средним значением."
   ]
  },
  {
   "cell_type": "code",
   "execution_count": 17,
   "id": "b56627c3",
   "metadata": {},
   "outputs": [
    {
     "data": {
      "text/plain": [
       "np.float64(110.0)"
      ]
     },
     "execution_count": 17,
     "metadata": {},
     "output_type": "execute_result"
    }
   ],
   "source": [
    "median_calories = np.median(calorie_stats)\n",
    "median_calories"
   ]
  },
  {
   "cell_type": "markdown",
   "id": "a63ab72f",
   "metadata": {},
   "source": [
    "5. В то время как медиана показывает, что по крайней мере половина наших значений составляет более 100 калорий, было бы более впечатляюще показать, что значительная часть конкурентов имеет более высокое количество калорий, чем CrunchieMunchies.\n",
    "\n",
    "Рассчитайте различные процентили и распечатайте их, пока не найдете наименьший процентиль, превышающий 60 калорий. Сохраните это значение в переменной nth_percentile."
   ]
  },
  {
   "cell_type": "code",
   "execution_count": 18,
   "id": "fe80ce03",
   "metadata": {},
   "outputs": [
    {
     "data": {
      "text/plain": [
       "4"
      ]
     },
     "execution_count": 18,
     "metadata": {},
     "output_type": "execute_result"
    }
   ],
   "source": [
    "for p in range(101):\n",
    "    if np.percentile(calorie_stats, p) > 60:\n",
    "        nth_percentile = p\n",
    "        break\n",
    "nth_percentile"
   ]
  },
  {
   "cell_type": "markdown",
   "id": "a2a3c5aa",
   "metadata": {},
   "source": [
    "6. Хотя процентиль показывает нам, что у большинства конкурентов количество калорий намного выше, это неудобная концепция для использования в маркетинговых материалах.\n",
    "\n",
    "Вместо этого давайте подсчитаем процент хлопьев, в которых содержится более 60 калорий на порцию. Сохраните свой ответ в переменной more_calories и распечатайте его"
   ]
  },
  {
   "cell_type": "code",
   "execution_count": 19,
   "id": "ade0f6ea",
   "metadata": {},
   "outputs": [
    {
     "data": {
      "text/plain": [
       "96.1"
      ]
     },
     "execution_count": 19,
     "metadata": {},
     "output_type": "execute_result"
    }
   ],
   "source": [
    "more_calories = float((calorie_stats > 60).mean().round(3) * 100)\n",
    "more_calories"
   ]
  },
  {
   "cell_type": "markdown",
   "id": "1735d65b",
   "metadata": {},
   "source": [
    "7. Это действительно высокий процент. Это будет очень полезно, когда мы будем продвигать CrunchieMunchies. Но один вопрос заключается в том, насколько велики различия в наборе данных? Можем ли мы сделать обобщение, что в большинстве злаков содержится около 100 калорий или разброс еще больше?\n",
    "\n",
    "Рассчитайте величину отклонения, найдя стандартное отклонение, Сохраните свой ответ в calorie_std и распечатайте на терминале. Как мы можем включить эту ценность в наш анализ?"
   ]
  },
  {
   "cell_type": "code",
   "execution_count": 20,
   "id": "85c8df1f",
   "metadata": {},
   "outputs": [
    {
     "data": {
      "text/plain": [
       "np.float64(19.35718533390827)"
      ]
     },
     "execution_count": 20,
     "metadata": {},
     "output_type": "execute_result"
    }
   ],
   "source": [
    "calorie_std = calorie_stats.std()\n",
    "calorie_std"
   ]
  },
  {
   "cell_type": "markdown",
   "id": "037455c5",
   "metadata": {},
   "source": [
    "8. Напишите короткий абзац, в котором кратко изложите свои выводы и то, как, по вашему мнению, эти данные могут быть использованы в интересах Mycrunch при маркетинге CrunchieMunchies."
   ]
  },
  {
   "cell_type": "code",
   "execution_count": 21,
   "id": "36b2ec11",
   "metadata": {},
   "outputs": [
    {
     "data": {
      "text/plain": [
       "56"
      ]
     },
     "execution_count": 21,
     "metadata": {},
     "output_type": "execute_result"
    }
   ],
   "source": [
    "less_then_average = int(60 / average_calories * 100)\n",
    "less_then_average"
   ]
  },
  {
   "cell_type": "markdown",
   "id": "33665950",
   "metadata": {},
   "source": [
    "1. В одной порции CrunchieMunchies всего лишь 60 ккал \n",
    "2. В CrunchieMunchies меньше каллорий чем у 96% конкурентов\n",
    "3. В CrunchieMunchies на 56% меньше каллорий чем в среднем по рынку\n"
   ]
  }
 ],
 "metadata": {
  "kernelspec": {
   "display_name": "venv",
   "language": "python",
   "name": "python3"
  },
  "language_info": {
   "codemirror_mode": {
    "name": "ipython",
    "version": 3
   },
   "file_extension": ".py",
   "mimetype": "text/x-python",
   "name": "python",
   "nbconvert_exporter": "python",
   "pygments_lexer": "ipython3",
   "version": "3.12.3"
  }
 },
 "nbformat": 4,
 "nbformat_minor": 5
}
